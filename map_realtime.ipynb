{
 "cells": [
  {
   "cell_type": "code",
   "execution_count": 3,
   "metadata": {},
   "outputs": [
    {
     "name": "stdout",
     "output_type": "stream",
     "text": [
      "displaying map\n"
     ]
    },
    {
     "data": {
      "application/vnd.jupyter.widget-view+json": {
       "model_id": "4fb28669ddcf41f4b18c072aba4083a1",
       "version_major": 2,
       "version_minor": 0
      },
      "text/plain": [
       "Map(center=[30.618778910945345, -96.33762402554211], controls=(ZoomControl(options=['position', 'zoom_in_text'…"
      ]
     },
     "metadata": {},
     "output_type": "display_data"
    },
    {
     "name": "stdout",
     "output_type": "stream",
     "text": [
      "Animation completed.\n"
     ]
    }
   ],
   "source": [
    "import osmnx as ox\n",
    "import networkx as nx\n",
    "import geopandas as gpd\n",
    "from ipyleaflet import Map, Marker, Polyline, LayerGroup\n",
    "from IPython.display import display\n",
    "import time\n",
    "\n",
    "# Define the starting and ending locations\n",
    "start_location = (30.618778910945345, -96.33762402554211)  # Example start location\n",
    "end_location = (30.705851724745518, -96.46465632258864)    # Example end location\n",
    "\n",
    "# Get the graph for the area around the starting location\n",
    "G = ox.graph_from_point(start_location, dist=25000, network_type='drive')\n",
    "\n",
    "# Get the nearest nodes to the starting and ending locations\n",
    "start_node = ox.distance.nearest_nodes(G, X=start_location[1], Y=start_location[0])\n",
    "end_node = ox.distance.nearest_nodes(G, X=end_location[1], Y=end_location[0])\n",
    "\n",
    "# Use the A* algorithm to find the shortest path\n",
    "route = nx.shortest_path(G, start_node, end_node, weight='length')\n",
    "\n",
    "# Convert graph to GeoDataFrames\n",
    "gdf_nodes, gdf_edges = ox.graph_to_gdfs(G)\n",
    "\n",
    "# Extract the route nodes as a GeoDataFrame\n",
    "route_nodes = gdf_nodes.loc[route]\n",
    "\n",
    "# Create an interactive map\n",
    "m = Map(center=start_location, zoom=12)\n",
    "\n",
    "# Add start and end markers\n",
    "start_marker = Marker(location=start_location, draggable=False, title='Start')\n",
    "end_marker = Marker(location=end_location, draggable=False, title='End')\n",
    "m.add_layer(start_marker)\n",
    "m.add_layer(end_marker)\n",
    "\n",
    "# Function to update the route on the map\n",
    "def update_route(route_nodes):\n",
    "    route_layer = LayerGroup()\n",
    "    for i in range(len(route_nodes) - 1):\n",
    "        point1 = (route_nodes.iloc[i].y, route_nodes.iloc[i].x)\n",
    "        point2 = (route_nodes.iloc[i + 1].y, route_nodes.iloc[i + 1].x)\n",
    "        line = Polyline(locations=[point1, point2], color=\"blue\", fill=False)\n",
    "        route_layer.add_layer(line)\n",
    "    return route_layer\n",
    "\n",
    "# Display the map\n",
    "print(f'displaying map')\n",
    "display(m)\n",
    "\n",
    "# Initialize route layer\n",
    "current_route_layer = None\n",
    "\n",
    "# Update the route in real-time\n",
    "for i in range(len(route_nodes) - 1):\n",
    "    # Remove the previous route layer if it exists\n",
    "    if current_route_layer:\n",
    "        m.remove_layer(current_route_layer)\n",
    "    \n",
    "    # Create and add the new route layer\n",
    "    current_route_layer = update_route(route_nodes.iloc[:i + 2])\n",
    "    m.add_layer(current_route_layer)\n",
    "    \n",
    "    # Sleep to create an animation effect\n",
    "    time.sleep(0.2)\n",
    "\n",
    "print(\"Animation completed.\")\n"
   ]
  }
 ],
 "metadata": {
  "kernelspec": {
   "display_name": "Python 3",
   "language": "python",
   "name": "python3"
  },
  "language_info": {
   "codemirror_mode": {
    "name": "ipython",
    "version": 3
   },
   "file_extension": ".py",
   "mimetype": "text/x-python",
   "name": "python",
   "nbconvert_exporter": "python",
   "pygments_lexer": "ipython3",
   "version": "3.11.0"
  }
 },
 "nbformat": 4,
 "nbformat_minor": 2
}
